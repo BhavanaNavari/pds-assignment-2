{
 "cells": [
  {
   "cell_type": "code",
   "execution_count": 16,
   "id": "2c274b0f",
   "metadata": {
    "id": "2c274b0f"
   },
   "outputs": [],
   "source": [
    "import pandas as pd"
   ]
  },
  {
   "cell_type": "code",
   "execution_count": 17,
   "id": "e96cb5d9",
   "metadata": {
    "id": "e96cb5d9"
   },
   "outputs": [],
   "source": [
    "data=pd.read_csv('../Raw_Data/RawData_train.csv')"
   ]
  },
  {
   "cell_type": "code",
   "execution_count": 18,
   "id": "9b0a6216",
   "metadata": {
    "colab": {
     "base_uri": "https://localhost:8080/",
     "height": 417
    },
    "id": "9b0a6216",
    "outputId": "37337215-10b7-4d96-96fc-fa11bc19f9a4"
   },
   "outputs": [
    {
     "data": {
      "text/html": [
       "<div>\n",
       "<style scoped>\n",
       "    .dataframe tbody tr th:only-of-type {\n",
       "        vertical-align: middle;\n",
       "    }\n",
       "\n",
       "    .dataframe tbody tr th {\n",
       "        vertical-align: top;\n",
       "    }\n",
       "\n",
       "    .dataframe thead th {\n",
       "        text-align: right;\n",
       "    }\n",
       "</style>\n",
       "<table border=\"1\" class=\"dataframe\">\n",
       "  <thead>\n",
       "    <tr style=\"text-align: right;\">\n",
       "      <th></th>\n",
       "      <th>Unnamed: 0</th>\n",
       "      <th>Name</th>\n",
       "      <th>Location</th>\n",
       "      <th>Year</th>\n",
       "      <th>Kilometers_Driven</th>\n",
       "      <th>Fuel_Type</th>\n",
       "      <th>Transmission</th>\n",
       "      <th>Owner_Type</th>\n",
       "      <th>Mileage</th>\n",
       "      <th>Engine</th>\n",
       "      <th>Power</th>\n",
       "      <th>Seats</th>\n",
       "      <th>New_Price</th>\n",
       "      <th>Price</th>\n",
       "    </tr>\n",
       "  </thead>\n",
       "  <tbody>\n",
       "    <tr>\n",
       "      <th>0</th>\n",
       "      <td>1</td>\n",
       "      <td>Hyundai Creta 1.6 CRDi SX Option</td>\n",
       "      <td>Pune</td>\n",
       "      <td>2015</td>\n",
       "      <td>41000</td>\n",
       "      <td>Diesel</td>\n",
       "      <td>Manual</td>\n",
       "      <td>First</td>\n",
       "      <td>19.67 kmpl</td>\n",
       "      <td>1582 CC</td>\n",
       "      <td>126.2 bhp</td>\n",
       "      <td>5.0</td>\n",
       "      <td>NaN</td>\n",
       "      <td>12.50</td>\n",
       "    </tr>\n",
       "    <tr>\n",
       "      <th>1</th>\n",
       "      <td>2</td>\n",
       "      <td>Honda Jazz V</td>\n",
       "      <td>Chennai</td>\n",
       "      <td>2011</td>\n",
       "      <td>46000</td>\n",
       "      <td>Petrol</td>\n",
       "      <td>Manual</td>\n",
       "      <td>First</td>\n",
       "      <td>13 km/kg</td>\n",
       "      <td>1199 CC</td>\n",
       "      <td>88.7 bhp</td>\n",
       "      <td>5.0</td>\n",
       "      <td>8.61 Lakh</td>\n",
       "      <td>4.50</td>\n",
       "    </tr>\n",
       "    <tr>\n",
       "      <th>2</th>\n",
       "      <td>3</td>\n",
       "      <td>Maruti Ertiga VDI</td>\n",
       "      <td>Chennai</td>\n",
       "      <td>2012</td>\n",
       "      <td>87000</td>\n",
       "      <td>Diesel</td>\n",
       "      <td>Manual</td>\n",
       "      <td>First</td>\n",
       "      <td>20.77 kmpl</td>\n",
       "      <td>1248 CC</td>\n",
       "      <td>88.76 bhp</td>\n",
       "      <td>7.0</td>\n",
       "      <td>NaN</td>\n",
       "      <td>6.00</td>\n",
       "    </tr>\n",
       "    <tr>\n",
       "      <th>3</th>\n",
       "      <td>4</td>\n",
       "      <td>Audi A4 New 2.0 TDI Multitronic</td>\n",
       "      <td>Coimbatore</td>\n",
       "      <td>2013</td>\n",
       "      <td>40670</td>\n",
       "      <td>Diesel</td>\n",
       "      <td>Automatic</td>\n",
       "      <td>Second</td>\n",
       "      <td>15.2 kmpl</td>\n",
       "      <td>1968 CC</td>\n",
       "      <td>140.8 bhp</td>\n",
       "      <td>5.0</td>\n",
       "      <td>NaN</td>\n",
       "      <td>17.74</td>\n",
       "    </tr>\n",
       "    <tr>\n",
       "      <th>4</th>\n",
       "      <td>6</td>\n",
       "      <td>Nissan Micra Diesel XV</td>\n",
       "      <td>Jaipur</td>\n",
       "      <td>2013</td>\n",
       "      <td>86999</td>\n",
       "      <td>Diesel</td>\n",
       "      <td>Manual</td>\n",
       "      <td>First</td>\n",
       "      <td>23.08 kmpl</td>\n",
       "      <td>1461 CC</td>\n",
       "      <td>63.1 bhp</td>\n",
       "      <td>5.0</td>\n",
       "      <td>NaN</td>\n",
       "      <td>3.50</td>\n",
       "    </tr>\n",
       "  </tbody>\n",
       "</table>\n",
       "</div>"
      ],
      "text/plain": [
       "   Unnamed: 0                              Name    Location  Year  \\\n",
       "0           1  Hyundai Creta 1.6 CRDi SX Option        Pune  2015   \n",
       "1           2                      Honda Jazz V     Chennai  2011   \n",
       "2           3                 Maruti Ertiga VDI     Chennai  2012   \n",
       "3           4   Audi A4 New 2.0 TDI Multitronic  Coimbatore  2013   \n",
       "4           6            Nissan Micra Diesel XV      Jaipur  2013   \n",
       "\n",
       "   Kilometers_Driven Fuel_Type Transmission Owner_Type     Mileage   Engine  \\\n",
       "0              41000    Diesel       Manual      First  19.67 kmpl  1582 CC   \n",
       "1              46000    Petrol       Manual      First    13 km/kg  1199 CC   \n",
       "2              87000    Diesel       Manual      First  20.77 kmpl  1248 CC   \n",
       "3              40670    Diesel    Automatic     Second   15.2 kmpl  1968 CC   \n",
       "4              86999    Diesel       Manual      First  23.08 kmpl  1461 CC   \n",
       "\n",
       "       Power  Seats  New_Price  Price  \n",
       "0  126.2 bhp    5.0        NaN  12.50  \n",
       "1   88.7 bhp    5.0  8.61 Lakh   4.50  \n",
       "2  88.76 bhp    7.0        NaN   6.00  \n",
       "3  140.8 bhp    5.0        NaN  17.74  \n",
       "4   63.1 bhp    5.0        NaN   3.50  "
      ]
     },
     "execution_count": 18,
     "metadata": {},
     "output_type": "execute_result"
    }
   ],
   "source": [
    "data.head()"
   ]
  },
  {
   "cell_type": "code",
   "execution_count": 7,
   "id": "659d8eb3",
   "metadata": {
    "id": "659d8eb3"
   },
   "outputs": [],
   "source": [
    "#Checking for missing or null values"
   ]
  },
  {
   "cell_type": "code",
   "execution_count": 8,
   "id": "e9c585db",
   "metadata": {
    "colab": {
     "base_uri": "https://localhost:8080/"
    },
    "id": "e9c585db",
    "outputId": "a7161108-aa62-47cb-c9d8-a4f836df7a3f"
   },
   "outputs": [
    {
     "data": {
      "text/plain": [
       "Unnamed: 0              0\n",
       "Name                    0\n",
       "Location                0\n",
       "Year                    0\n",
       "Kilometers_Driven       0\n",
       "Fuel_Type               0\n",
       "Transmission            0\n",
       "Owner_Type              0\n",
       "Mileage                 2\n",
       "Engine                 36\n",
       "Power                  36\n",
       "Seats                  38\n",
       "New_Price            5032\n",
       "Price                   0\n",
       "dtype: int64"
      ]
     },
     "execution_count": 8,
     "metadata": {},
     "output_type": "execute_result"
    }
   ],
   "source": [
    "data.isna().sum()"
   ]
  },
  {
   "cell_type": "code",
   "execution_count": 19,
   "id": "b37191df",
   "metadata": {
    "id": "b37191df"
   },
   "outputs": [],
   "source": [
    "d2= pd.DataFrame(data)"
   ]
  },
  {
   "cell_type": "code",
   "execution_count": 20,
   "id": "9124d21a",
   "metadata": {
    "id": "9124d21a"
   },
   "outputs": [],
   "source": [
    "# (b) Removed the units from Mileage, Engine, Power and New_Price and converted them into float and only keeping the numerical values for analysis"
   ]
  },
  {
   "cell_type": "code",
   "execution_count": 21,
   "id": "b28aa353",
   "metadata": {
    "id": "b28aa353"
   },
   "outputs": [],
   "source": [
    "d2['Mileage'] = d2['Mileage'].str.extract('(\\d+\\.\\d+)').astype(float)\n",
    "\n",
    "d2['Engine'] = d2['Engine'].str.replace(' CC', '').astype(float)\n",
    "\n",
    "d2['Power'] = d2['Power'].str.extract('(\\d+\\.\\d+)').astype(float)\n",
    "\n",
    "d2['New_Price'] = d2['New_Price'].str.extract('(\\d+\\.\\d+)').astype(float)"
   ]
  },
  {
   "cell_type": "code",
   "execution_count": 53,
   "id": "2ecc87b8-86d8-4d67-bef2-a430f8a29e00",
   "metadata": {},
   "outputs": [
    {
     "data": {
      "text/html": [
       "<div>\n",
       "<style scoped>\n",
       "    .dataframe tbody tr th:only-of-type {\n",
       "        vertical-align: middle;\n",
       "    }\n",
       "\n",
       "    .dataframe tbody tr th {\n",
       "        vertical-align: top;\n",
       "    }\n",
       "\n",
       "    .dataframe thead th {\n",
       "        text-align: right;\n",
       "    }\n",
       "</style>\n",
       "<table border=\"1\" class=\"dataframe\">\n",
       "  <thead>\n",
       "    <tr style=\"text-align: right;\">\n",
       "      <th></th>\n",
       "      <th>Unnamed: 0</th>\n",
       "      <th>Name</th>\n",
       "      <th>Location</th>\n",
       "      <th>Year</th>\n",
       "      <th>Kilometers_Driven</th>\n",
       "      <th>Fuel_Type</th>\n",
       "      <th>Transmission</th>\n",
       "      <th>Owner_Type</th>\n",
       "      <th>Mileage</th>\n",
       "      <th>Engine</th>\n",
       "      <th>Power</th>\n",
       "      <th>Seats</th>\n",
       "      <th>Price</th>\n",
       "    </tr>\n",
       "  </thead>\n",
       "  <tbody>\n",
       "    <tr>\n",
       "      <th>0</th>\n",
       "      <td>1</td>\n",
       "      <td>Hyundai Creta 1.6 CRDi SX Option</td>\n",
       "      <td>Pune</td>\n",
       "      <td>2015</td>\n",
       "      <td>41000</td>\n",
       "      <td>Diesel</td>\n",
       "      <td>Manual</td>\n",
       "      <td>First</td>\n",
       "      <td>19.67</td>\n",
       "      <td>1582.0</td>\n",
       "      <td>126.20</td>\n",
       "      <td>5.0</td>\n",
       "      <td>12.50</td>\n",
       "    </tr>\n",
       "    <tr>\n",
       "      <th>1</th>\n",
       "      <td>2</td>\n",
       "      <td>Honda Jazz V</td>\n",
       "      <td>Chennai</td>\n",
       "      <td>2011</td>\n",
       "      <td>46000</td>\n",
       "      <td>Petrol</td>\n",
       "      <td>Manual</td>\n",
       "      <td>First</td>\n",
       "      <td>18.19</td>\n",
       "      <td>1199.0</td>\n",
       "      <td>88.70</td>\n",
       "      <td>5.0</td>\n",
       "      <td>4.50</td>\n",
       "    </tr>\n",
       "    <tr>\n",
       "      <th>2</th>\n",
       "      <td>3</td>\n",
       "      <td>Maruti Ertiga VDI</td>\n",
       "      <td>Chennai</td>\n",
       "      <td>2012</td>\n",
       "      <td>87000</td>\n",
       "      <td>Diesel</td>\n",
       "      <td>Manual</td>\n",
       "      <td>First</td>\n",
       "      <td>20.77</td>\n",
       "      <td>1248.0</td>\n",
       "      <td>88.76</td>\n",
       "      <td>7.0</td>\n",
       "      <td>6.00</td>\n",
       "    </tr>\n",
       "    <tr>\n",
       "      <th>3</th>\n",
       "      <td>4</td>\n",
       "      <td>Audi A4 New 2.0 TDI Multitronic</td>\n",
       "      <td>Coimbatore</td>\n",
       "      <td>2013</td>\n",
       "      <td>40670</td>\n",
       "      <td>Diesel</td>\n",
       "      <td>Automatic</td>\n",
       "      <td>Second</td>\n",
       "      <td>15.20</td>\n",
       "      <td>1968.0</td>\n",
       "      <td>140.80</td>\n",
       "      <td>5.0</td>\n",
       "      <td>17.74</td>\n",
       "    </tr>\n",
       "    <tr>\n",
       "      <th>4</th>\n",
       "      <td>6</td>\n",
       "      <td>Nissan Micra Diesel XV</td>\n",
       "      <td>Jaipur</td>\n",
       "      <td>2013</td>\n",
       "      <td>86999</td>\n",
       "      <td>Diesel</td>\n",
       "      <td>Manual</td>\n",
       "      <td>First</td>\n",
       "      <td>23.08</td>\n",
       "      <td>1461.0</td>\n",
       "      <td>63.10</td>\n",
       "      <td>5.0</td>\n",
       "      <td>3.50</td>\n",
       "    </tr>\n",
       "  </tbody>\n",
       "</table>\n",
       "</div>"
      ],
      "text/plain": [
       "   Unnamed: 0                              Name    Location  Year  \\\n",
       "0           1  Hyundai Creta 1.6 CRDi SX Option        Pune  2015   \n",
       "1           2                      Honda Jazz V     Chennai  2011   \n",
       "2           3                 Maruti Ertiga VDI     Chennai  2012   \n",
       "3           4   Audi A4 New 2.0 TDI Multitronic  Coimbatore  2013   \n",
       "4           6            Nissan Micra Diesel XV      Jaipur  2013   \n",
       "\n",
       "   Kilometers_Driven Fuel_Type Transmission Owner_Type  Mileage  Engine  \\\n",
       "0              41000    Diesel       Manual      First    19.67  1582.0   \n",
       "1              46000    Petrol       Manual      First    18.19  1199.0   \n",
       "2              87000    Diesel       Manual      First    20.77  1248.0   \n",
       "3              40670    Diesel    Automatic     Second    15.20  1968.0   \n",
       "4              86999    Diesel       Manual      First    23.08  1461.0   \n",
       "\n",
       "    Power  Seats  Price  \n",
       "0  126.20    5.0  12.50  \n",
       "1   88.70    5.0   4.50  \n",
       "2   88.76    7.0   6.00  \n",
       "3  140.80    5.0  17.74  \n",
       "4   63.10    5.0   3.50  "
      ]
     },
     "execution_count": 53,
     "metadata": {},
     "output_type": "execute_result"
    }
   ],
   "source": [
    "d2.head()"
   ]
  },
  {
   "cell_type": "code",
   "execution_count": 22,
   "id": "d89d33cf",
   "metadata": {
    "id": "d89d33cf"
   },
   "outputs": [],
   "source": [
    "#(a) \n",
    "#Justifications\n",
    "# Replacing the missing values in Mileage, Engine, and Power with the median because it represents and maintains the typical value, since have more variance and is less affected by outliers.\n",
    "# Using the mode to replace missing values for the Seat column as it gives the information about the most frequently occurring whole number of seats.\n",
    "# Dropping the New_Price column as it contains more than 50% of missing values in it. By filling these missing values which are huge in number could not only impact the data making it faulty as well as its analysis."
   ]
  },
  {
   "cell_type": "code",
   "execution_count": 23,
   "id": "af909e4e",
   "metadata": {
    "id": "af909e4e"
   },
   "outputs": [],
   "source": [
    "d2['Mileage'].fillna(d2['Mileage'].median(),inplace=True)\n",
    "d2['Engine'].fillna(d2['Engine'].median(),inplace=True)\n",
    "d2['Power'].fillna(d2['Power'].median(),inplace=True)\n",
    "\n",
    "d2['Seats'].fillna(d2['Seats'].mode()[0],inplace=True)\n",
    "\n",
    "d2.drop('New_Price', axis=1, inplace=True)#axis=1 indicates to drop a column"
   ]
  },
  {
   "cell_type": "code",
   "execution_count": 35,
   "id": "fdef6bc3",
   "metadata": {
    "id": "fdef6bc3"
   },
   "outputs": [],
   "source": [
    "\n",
    "d2.to_csv('../Results/preprocessed_data.csv', index=False)"
   ]
  },
  {
   "cell_type": "code",
   "execution_count": 36,
   "id": "e176b553",
   "metadata": {
    "id": "e176b553"
   },
   "outputs": [],
   "source": [
    "d1=pd.read_csv('../Results/preprocessed_data.csv')"
   ]
  },
  {
   "cell_type": "code",
   "execution_count": 37,
   "id": "a7a3fefb",
   "metadata": {
    "colab": {
     "base_uri": "https://localhost:8080/"
    },
    "id": "a7a3fefb",
    "outputId": "62740be3-0f9b-498b-a2b9-33b9c01889f8"
   },
   "outputs": [
    {
     "data": {
      "text/plain": [
       "Unnamed: 0           0\n",
       "Name                 0\n",
       "Location             0\n",
       "Year                 0\n",
       "Kilometers_Driven    0\n",
       "Fuel_Type            0\n",
       "Transmission         0\n",
       "Owner_Type           0\n",
       "Mileage              0\n",
       "Engine               0\n",
       "Power                0\n",
       "Seats                0\n",
       "Price                0\n",
       "dtype: int64"
      ]
     },
     "execution_count": 37,
     "metadata": {},
     "output_type": "execute_result"
    }
   ],
   "source": [
    "d1.isna().sum()"
   ]
  },
  {
   "cell_type": "code",
   "execution_count": 38,
   "id": "d53a31fe",
   "metadata": {
    "id": "d53a31fe"
   },
   "outputs": [],
   "source": [
    "#observing the unique values for some of our categorical variables as below: \"Fuel_Type,\" \"Transmission,\" and \"Owner_Type.\""
   ]
  },
  {
   "cell_type": "code",
   "execution_count": 39,
   "id": "fe46692d",
   "metadata": {
    "colab": {
     "base_uri": "https://localhost:8080/"
    },
    "id": "fe46692d",
    "outputId": "a06765ed-7245-456c-9d6f-af8ece736409"
   },
   "outputs": [
    {
     "data": {
      "text/plain": [
       "array(['Diesel', 'Petrol', 'Electric'], dtype=object)"
      ]
     },
     "execution_count": 39,
     "metadata": {},
     "output_type": "execute_result"
    }
   ],
   "source": [
    "d1['Fuel_Type'].unique()"
   ]
  },
  {
   "cell_type": "code",
   "execution_count": 40,
   "id": "69b557a3",
   "metadata": {
    "colab": {
     "base_uri": "https://localhost:8080/"
    },
    "id": "69b557a3",
    "outputId": "8c2f9654-9212-46cc-bdae-13ef1a0b20be"
   },
   "outputs": [
    {
     "data": {
      "text/plain": [
       "array(['Manual', 'Automatic'], dtype=object)"
      ]
     },
     "execution_count": 40,
     "metadata": {},
     "output_type": "execute_result"
    }
   ],
   "source": [
    "d1['Transmission'].unique()"
   ]
  },
  {
   "cell_type": "code",
   "execution_count": 41,
   "id": "99d24337",
   "metadata": {
    "colab": {
     "base_uri": "https://localhost:8080/"
    },
    "id": "99d24337",
    "outputId": "3dafdd51-d2f6-4928-bc85-fb565fb68cce"
   },
   "outputs": [
    {
     "data": {
      "text/plain": [
       "array(['First', 'Second', 'Fourth & Above', 'Third'], dtype=object)"
      ]
     },
     "execution_count": 41,
     "metadata": {},
     "output_type": "execute_result"
    }
   ],
   "source": [
    "d1['Owner_Type'].unique()"
   ]
  },
  {
   "cell_type": "code",
   "execution_count": 54,
   "id": "95c2545e",
   "metadata": {
    "id": "95c2545e"
   },
   "outputs": [],
   "source": [
    "# (c) Converting the categorical variable into numerical data using one-hot encoding.\n",
    "d1['Fuel_Type'].replace({'Diesel': 0, 'Petrol': 1, 'Electric': 2}, inplace=True)\n",
    "d1['Transmission'].replace({'Manual': 0, 'Automatic': 1}, inplace=True)\n",
    "d1['Owner_Type'].replace({'First': 1, 'Second': 2, 'Third': 3, 'Fourth & Above': 4}, inplace=True)"
   ]
  },
  {
   "cell_type": "code",
   "execution_count": 43,
   "id": "d220c5da",
   "metadata": {
    "colab": {
     "base_uri": "https://localhost:8080/",
     "height": 417
    },
    "id": "d220c5da",
    "outputId": "95705392-8bfa-4f0d-e2f5-e637379bbff9"
   },
   "outputs": [
    {
     "data": {
      "text/html": [
       "<div>\n",
       "<style scoped>\n",
       "    .dataframe tbody tr th:only-of-type {\n",
       "        vertical-align: middle;\n",
       "    }\n",
       "\n",
       "    .dataframe tbody tr th {\n",
       "        vertical-align: top;\n",
       "    }\n",
       "\n",
       "    .dataframe thead th {\n",
       "        text-align: right;\n",
       "    }\n",
       "</style>\n",
       "<table border=\"1\" class=\"dataframe\">\n",
       "  <thead>\n",
       "    <tr style=\"text-align: right;\">\n",
       "      <th></th>\n",
       "      <th>Unnamed: 0</th>\n",
       "      <th>Name</th>\n",
       "      <th>Location</th>\n",
       "      <th>Year</th>\n",
       "      <th>Kilometers_Driven</th>\n",
       "      <th>Fuel_Type</th>\n",
       "      <th>Transmission</th>\n",
       "      <th>Owner_Type</th>\n",
       "      <th>Mileage</th>\n",
       "      <th>Engine</th>\n",
       "      <th>Power</th>\n",
       "      <th>Seats</th>\n",
       "      <th>Price</th>\n",
       "    </tr>\n",
       "  </thead>\n",
       "  <tbody>\n",
       "    <tr>\n",
       "      <th>0</th>\n",
       "      <td>1</td>\n",
       "      <td>Hyundai Creta 1.6 CRDi SX Option</td>\n",
       "      <td>Pune</td>\n",
       "      <td>2015</td>\n",
       "      <td>41000</td>\n",
       "      <td>0</td>\n",
       "      <td>0</td>\n",
       "      <td>1</td>\n",
       "      <td>19.67</td>\n",
       "      <td>1582.0</td>\n",
       "      <td>126.20</td>\n",
       "      <td>5.0</td>\n",
       "      <td>12.50</td>\n",
       "    </tr>\n",
       "    <tr>\n",
       "      <th>1</th>\n",
       "      <td>2</td>\n",
       "      <td>Honda Jazz V</td>\n",
       "      <td>Chennai</td>\n",
       "      <td>2011</td>\n",
       "      <td>46000</td>\n",
       "      <td>1</td>\n",
       "      <td>0</td>\n",
       "      <td>1</td>\n",
       "      <td>18.19</td>\n",
       "      <td>1199.0</td>\n",
       "      <td>88.70</td>\n",
       "      <td>5.0</td>\n",
       "      <td>4.50</td>\n",
       "    </tr>\n",
       "    <tr>\n",
       "      <th>2</th>\n",
       "      <td>3</td>\n",
       "      <td>Maruti Ertiga VDI</td>\n",
       "      <td>Chennai</td>\n",
       "      <td>2012</td>\n",
       "      <td>87000</td>\n",
       "      <td>0</td>\n",
       "      <td>0</td>\n",
       "      <td>1</td>\n",
       "      <td>20.77</td>\n",
       "      <td>1248.0</td>\n",
       "      <td>88.76</td>\n",
       "      <td>7.0</td>\n",
       "      <td>6.00</td>\n",
       "    </tr>\n",
       "    <tr>\n",
       "      <th>3</th>\n",
       "      <td>4</td>\n",
       "      <td>Audi A4 New 2.0 TDI Multitronic</td>\n",
       "      <td>Coimbatore</td>\n",
       "      <td>2013</td>\n",
       "      <td>40670</td>\n",
       "      <td>0</td>\n",
       "      <td>1</td>\n",
       "      <td>2</td>\n",
       "      <td>15.20</td>\n",
       "      <td>1968.0</td>\n",
       "      <td>140.80</td>\n",
       "      <td>5.0</td>\n",
       "      <td>17.74</td>\n",
       "    </tr>\n",
       "    <tr>\n",
       "      <th>4</th>\n",
       "      <td>6</td>\n",
       "      <td>Nissan Micra Diesel XV</td>\n",
       "      <td>Jaipur</td>\n",
       "      <td>2013</td>\n",
       "      <td>86999</td>\n",
       "      <td>0</td>\n",
       "      <td>0</td>\n",
       "      <td>1</td>\n",
       "      <td>23.08</td>\n",
       "      <td>1461.0</td>\n",
       "      <td>63.10</td>\n",
       "      <td>5.0</td>\n",
       "      <td>3.50</td>\n",
       "    </tr>\n",
       "  </tbody>\n",
       "</table>\n",
       "</div>"
      ],
      "text/plain": [
       "   Unnamed: 0                              Name    Location  Year  \\\n",
       "0           1  Hyundai Creta 1.6 CRDi SX Option        Pune  2015   \n",
       "1           2                      Honda Jazz V     Chennai  2011   \n",
       "2           3                 Maruti Ertiga VDI     Chennai  2012   \n",
       "3           4   Audi A4 New 2.0 TDI Multitronic  Coimbatore  2013   \n",
       "4           6            Nissan Micra Diesel XV      Jaipur  2013   \n",
       "\n",
       "   Kilometers_Driven  Fuel_Type  Transmission  Owner_Type  Mileage  Engine  \\\n",
       "0              41000          0             0           1    19.67  1582.0   \n",
       "1              46000          1             0           1    18.19  1199.0   \n",
       "2              87000          0             0           1    20.77  1248.0   \n",
       "3              40670          0             1           2    15.20  1968.0   \n",
       "4              86999          0             0           1    23.08  1461.0   \n",
       "\n",
       "    Power  Seats  Price  \n",
       "0  126.20    5.0  12.50  \n",
       "1   88.70    5.0   4.50  \n",
       "2   88.76    7.0   6.00  \n",
       "3  140.80    5.0  17.74  \n",
       "4   63.10    5.0   3.50  "
      ]
     },
     "execution_count": 43,
     "metadata": {},
     "output_type": "execute_result"
    }
   ],
   "source": [
    "d1.head()"
   ]
  },
  {
   "cell_type": "code",
   "execution_count": 44,
   "id": "b6c1ddf6",
   "metadata": {
    "id": "b6c1ddf6"
   },
   "outputs": [],
   "source": [
    "#Saving the encoded data in a separate csv file"
   ]
  },
  {
   "cell_type": "code",
   "execution_count": 45,
   "id": "fcf23a4a",
   "metadata": {
    "id": "fcf23a4a"
   },
   "outputs": [],
   "source": [
    "d1.to_csv('../Results/encoded_data.csv', index=False)\n"
   ]
  },
  {
   "cell_type": "code",
   "execution_count": 1,
   "id": "85510def",
   "metadata": {
    "id": "85510def"
   },
   "outputs": [],
   "source": [
    "#(d) Creating a new feature and adding a new column called \"Current_Age\" to our dataset, which will help us understand how old each car is."
   ]
  },
  {
   "cell_type": "code",
   "execution_count": 49,
   "id": "f26c4179",
   "metadata": {
    "id": "f26c4179"
   },
   "outputs": [],
   "source": [
    "from datetime import datetime"
   ]
  },
  {
   "cell_type": "code",
   "execution_count": 50,
   "id": "18626a6e",
   "metadata": {
    "id": "18626a6e"
   },
   "outputs": [],
   "source": [
    "current_year = datetime.now().year\n",
    "\n",
    "d1['Current_Age'] = current_year - d1['Year']"
   ]
  },
  {
   "cell_type": "code",
   "execution_count": 51,
   "id": "c6f47fa5",
   "metadata": {
    "id": "c6f47fa5"
   },
   "outputs": [],
   "source": [
    "#Save the encoded data in separate csv file\n",
    "d1.to_csv('../Results/newtable_data.csv', index=False)"
   ]
  },
  {
   "cell_type": "code",
   "execution_count": 52,
   "id": "3cb78c08",
   "metadata": {
    "colab": {
     "base_uri": "https://localhost:8080/",
     "height": 417
    },
    "id": "3cb78c08",
    "outputId": "b4c7893a-0684-473e-ff32-fe014e8a9a68"
   },
   "outputs": [
    {
     "data": {
      "text/html": [
       "<div>\n",
       "<style scoped>\n",
       "    .dataframe tbody tr th:only-of-type {\n",
       "        vertical-align: middle;\n",
       "    }\n",
       "\n",
       "    .dataframe tbody tr th {\n",
       "        vertical-align: top;\n",
       "    }\n",
       "\n",
       "    .dataframe thead th {\n",
       "        text-align: right;\n",
       "    }\n",
       "</style>\n",
       "<table border=\"1\" class=\"dataframe\">\n",
       "  <thead>\n",
       "    <tr style=\"text-align: right;\">\n",
       "      <th></th>\n",
       "      <th>Unnamed: 0</th>\n",
       "      <th>Name</th>\n",
       "      <th>Location</th>\n",
       "      <th>Year</th>\n",
       "      <th>Kilometers_Driven</th>\n",
       "      <th>Fuel_Type</th>\n",
       "      <th>Transmission</th>\n",
       "      <th>Owner_Type</th>\n",
       "      <th>Mileage</th>\n",
       "      <th>Engine</th>\n",
       "      <th>Power</th>\n",
       "      <th>Seats</th>\n",
       "      <th>Price</th>\n",
       "      <th>Current_Age</th>\n",
       "    </tr>\n",
       "  </thead>\n",
       "  <tbody>\n",
       "    <tr>\n",
       "      <th>0</th>\n",
       "      <td>1</td>\n",
       "      <td>Hyundai Creta 1.6 CRDi SX Option</td>\n",
       "      <td>Pune</td>\n",
       "      <td>2015</td>\n",
       "      <td>41000</td>\n",
       "      <td>0</td>\n",
       "      <td>0</td>\n",
       "      <td>1</td>\n",
       "      <td>19.67</td>\n",
       "      <td>1582.0</td>\n",
       "      <td>126.20</td>\n",
       "      <td>5.0</td>\n",
       "      <td>12.50</td>\n",
       "      <td>8</td>\n",
       "    </tr>\n",
       "    <tr>\n",
       "      <th>1</th>\n",
       "      <td>2</td>\n",
       "      <td>Honda Jazz V</td>\n",
       "      <td>Chennai</td>\n",
       "      <td>2011</td>\n",
       "      <td>46000</td>\n",
       "      <td>1</td>\n",
       "      <td>0</td>\n",
       "      <td>1</td>\n",
       "      <td>18.19</td>\n",
       "      <td>1199.0</td>\n",
       "      <td>88.70</td>\n",
       "      <td>5.0</td>\n",
       "      <td>4.50</td>\n",
       "      <td>12</td>\n",
       "    </tr>\n",
       "    <tr>\n",
       "      <th>2</th>\n",
       "      <td>3</td>\n",
       "      <td>Maruti Ertiga VDI</td>\n",
       "      <td>Chennai</td>\n",
       "      <td>2012</td>\n",
       "      <td>87000</td>\n",
       "      <td>0</td>\n",
       "      <td>0</td>\n",
       "      <td>1</td>\n",
       "      <td>20.77</td>\n",
       "      <td>1248.0</td>\n",
       "      <td>88.76</td>\n",
       "      <td>7.0</td>\n",
       "      <td>6.00</td>\n",
       "      <td>11</td>\n",
       "    </tr>\n",
       "    <tr>\n",
       "      <th>3</th>\n",
       "      <td>4</td>\n",
       "      <td>Audi A4 New 2.0 TDI Multitronic</td>\n",
       "      <td>Coimbatore</td>\n",
       "      <td>2013</td>\n",
       "      <td>40670</td>\n",
       "      <td>0</td>\n",
       "      <td>1</td>\n",
       "      <td>2</td>\n",
       "      <td>15.20</td>\n",
       "      <td>1968.0</td>\n",
       "      <td>140.80</td>\n",
       "      <td>5.0</td>\n",
       "      <td>17.74</td>\n",
       "      <td>10</td>\n",
       "    </tr>\n",
       "    <tr>\n",
       "      <th>4</th>\n",
       "      <td>6</td>\n",
       "      <td>Nissan Micra Diesel XV</td>\n",
       "      <td>Jaipur</td>\n",
       "      <td>2013</td>\n",
       "      <td>86999</td>\n",
       "      <td>0</td>\n",
       "      <td>0</td>\n",
       "      <td>1</td>\n",
       "      <td>23.08</td>\n",
       "      <td>1461.0</td>\n",
       "      <td>63.10</td>\n",
       "      <td>5.0</td>\n",
       "      <td>3.50</td>\n",
       "      <td>10</td>\n",
       "    </tr>\n",
       "  </tbody>\n",
       "</table>\n",
       "</div>"
      ],
      "text/plain": [
       "   Unnamed: 0                              Name    Location  Year  \\\n",
       "0           1  Hyundai Creta 1.6 CRDi SX Option        Pune  2015   \n",
       "1           2                      Honda Jazz V     Chennai  2011   \n",
       "2           3                 Maruti Ertiga VDI     Chennai  2012   \n",
       "3           4   Audi A4 New 2.0 TDI Multitronic  Coimbatore  2013   \n",
       "4           6            Nissan Micra Diesel XV      Jaipur  2013   \n",
       "\n",
       "   Kilometers_Driven  Fuel_Type  Transmission  Owner_Type  Mileage  Engine  \\\n",
       "0              41000          0             0           1    19.67  1582.0   \n",
       "1              46000          1             0           1    18.19  1199.0   \n",
       "2              87000          0             0           1    20.77  1248.0   \n",
       "3              40670          0             1           2    15.20  1968.0   \n",
       "4              86999          0             0           1    23.08  1461.0   \n",
       "\n",
       "    Power  Seats  Price  Current_Age  \n",
       "0  126.20    5.0  12.50            8  \n",
       "1   88.70    5.0   4.50           12  \n",
       "2   88.76    7.0   6.00           11  \n",
       "3  140.80    5.0  17.74           10  \n",
       "4   63.10    5.0   3.50           10  "
      ]
     },
     "execution_count": 52,
     "metadata": {},
     "output_type": "execute_result"
    }
   ],
   "source": [
    "d3=pd.read_csv('../Results/newtable_data.csv')\n",
    "d3.head()"
   ]
  },
  {
   "cell_type": "code",
   "execution_count": null,
   "id": "c4eb3947",
   "metadata": {
    "id": "c4eb3947"
   },
   "outputs": [],
   "source": []
  }
 ],
 "metadata": {
  "colab": {
   "provenance": []
  },
  "kernelspec": {
   "display_name": "Python 3 (ipykernel)",
   "language": "python",
   "name": "python3"
  },
  "language_info": {
   "codemirror_mode": {
    "name": "ipython",
    "version": 3
   },
   "file_extension": ".py",
   "mimetype": "text/x-python",
   "name": "python",
   "nbconvert_exporter": "python",
   "pygments_lexer": "ipython3",
   "version": "3.11.5"
  }
 },
 "nbformat": 4,
 "nbformat_minor": 5
}
